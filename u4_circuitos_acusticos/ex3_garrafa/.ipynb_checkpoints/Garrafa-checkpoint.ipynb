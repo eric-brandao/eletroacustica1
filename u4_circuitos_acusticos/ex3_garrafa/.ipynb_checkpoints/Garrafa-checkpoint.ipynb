{
 "cells": [
  {
   "cell_type": "code",
   "execution_count": 4,
   "id": "910c438a",
   "metadata": {},
   "outputs": [],
   "source": [
    "import numpy as np\n",
    "from matplotlib import pyplot as plt\n",
    "plt.rcParams.update({'font.size': 14})\n",
    "rho0 = 1.21\n",
    "c0 = 343\n",
    "eta = 1.84e-5"
   ]
  },
  {
   "cell_type": "code",
   "execution_count": 2,
   "id": "eae6421b",
   "metadata": {},
   "outputs": [],
   "source": [
    "# Volume da garrafa\n",
    "v = 0.6e-3 # [m^3]\n",
    "\n",
    "# comprimento do gargalo\n",
    "l = 0.02 # [m]\n",
    "\n",
    "# Raio do gargalo\n",
    "a = 0.005 # [m]"
   ]
  },
  {
   "cell_type": "code",
   "execution_count": 5,
   "id": "5ba15aad",
   "metadata": {},
   "outputs": [],
   "source": [
    "# compliancia\n",
    "Ca = v/(rho0*c0**2)\n",
    "\n",
    "# comprimento corrigido\n",
    "lc = l+2*0.85*a\n",
    "\n",
    "# Resistência\n",
    "Ra = 8*eta*lc/(np.pi*a**4)\n",
    "\n",
    "# Massa acustica\n",
    "Ma = (4/3)*rho0*lc/(np.pi*a**2)"
   ]
  },
  {
   "cell_type": "code",
   "execution_count": 8,
   "id": "15df50fb",
   "metadata": {},
   "outputs": [
    {
     "data": {
      "text/plain": [
       "585.4355426692279"
      ]
     },
     "execution_count": 8,
     "metadata": {},
     "output_type": "execute_result"
    }
   ],
   "source": [
    "Ma"
   ]
  }
 ],
 "metadata": {
  "kernelspec": {
   "display_name": "Python 3",
   "language": "python",
   "name": "python3"
  },
  "language_info": {
   "codemirror_mode": {
    "name": "ipython",
    "version": 3
   },
   "file_extension": ".py",
   "mimetype": "text/x-python",
   "name": "python",
   "nbconvert_exporter": "python",
   "pygments_lexer": "ipython3",
   "version": "3.7.7"
  }
 },
 "nbformat": 4,
 "nbformat_minor": 5
}
